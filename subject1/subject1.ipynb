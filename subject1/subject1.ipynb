{
  "nbformat": 4,
  "nbformat_minor": 0,
  "metadata": {
    "colab": {
      "name": "Untitled0.ipynb",
      "provenance": [],
      "collapsed_sections": [],
      "authorship_tag": "ABX9TyN7C2aDtkaC81UVpEzy/2bw",
      "include_colab_link": true
    },
    "kernelspec": {
      "name": "python3",
      "display_name": "Python 3"
    },
    "language_info": {
      "name": "python"
    }
  },
  "cells": [
    {
      "cell_type": "markdown",
      "metadata": {
        "id": "view-in-github",
        "colab_type": "text"
      },
      "source": [
        "<a href=\"https://colab.research.google.com/github/KimJuno-Korea/AI/blob/main/subject1/subject1.ipynb\" target=\"_parent\"><img src=\"https://colab.research.google.com/assets/colab-badge.svg\" alt=\"Open In Colab\"/></a>"
      ]
    },
    {
      "cell_type": "code",
      "metadata": {
        "id": "D5mDSLC8bLR9"
      },
      "source": [
        "# 라이브러리\n",
        "import tensorflow as tf\n",
        "import pandas as pd"
      ],
      "execution_count": 98,
      "outputs": []
    },
    {
      "cell_type": "code",
      "metadata": {
        "colab": {
          "base_uri": "https://localhost:8080/",
          "height": 204
        },
        "id": "hE-O7nLn1Awa",
        "outputId": "474aa649-3510-4463-f1ea-ca1b68f751b0"
      },
      "source": [
        "\n",
        "#1. 학습 데이터, 테스트 데이터 준비\n",
        "train_dataset_path = 'https://raw.githubusercontent.com/KimJuno-Korea/AI/main/subject1/train_dataset.csv'\n",
        "train_dataset = pd.read_csv(train_dataset_path)\n",
        "train_dataset.head()\n",
        "\n",
        "test_dataset_path = 'https://raw.githubusercontent.com/KimJuno-Korea/AI/main/subject1/test_dataset.csv'\n",
        "test_dataset = pd.read_csv(test_dataset_path)\n",
        "test_dataset.head()\n"
      ],
      "execution_count": 99,
      "outputs": [
        {
          "output_type": "execute_result",
          "data": {
            "text/html": [
              "<div>\n",
              "<style scoped>\n",
              "    .dataframe tbody tr th:only-of-type {\n",
              "        vertical-align: middle;\n",
              "    }\n",
              "\n",
              "    .dataframe tbody tr th {\n",
              "        vertical-align: top;\n",
              "    }\n",
              "\n",
              "    .dataframe thead th {\n",
              "        text-align: right;\n",
              "    }\n",
              "</style>\n",
              "<table border=\"1\" class=\"dataframe\">\n",
              "  <thead>\n",
              "    <tr style=\"text-align: right;\">\n",
              "      <th></th>\n",
              "      <th>CRIM</th>\n",
              "      <th>ZN</th>\n",
              "      <th>INDUS</th>\n",
              "      <th>CHAS</th>\n",
              "      <th>NOX</th>\n",
              "      <th>RM</th>\n",
              "      <th>AGE</th>\n",
              "      <th>DIS</th>\n",
              "      <th>RAD</th>\n",
              "      <th>TAX</th>\n",
              "      <th>PTRATIO</th>\n",
              "      <th>B</th>\n",
              "      <th>LSTAT</th>\n",
              "    </tr>\n",
              "  </thead>\n",
              "  <tbody>\n",
              "    <tr>\n",
              "      <th>0</th>\n",
              "      <td>3.16360</td>\n",
              "      <td>0</td>\n",
              "      <td>18.1</td>\n",
              "      <td>0</td>\n",
              "      <td>0.655</td>\n",
              "      <td>5.759</td>\n",
              "      <td>48.2</td>\n",
              "      <td>3.0665</td>\n",
              "      <td>24</td>\n",
              "      <td>666</td>\n",
              "      <td>20.2</td>\n",
              "      <td>334.40</td>\n",
              "      <td>14.13</td>\n",
              "    </tr>\n",
              "    <tr>\n",
              "      <th>1</th>\n",
              "      <td>3.77498</td>\n",
              "      <td>0</td>\n",
              "      <td>18.1</td>\n",
              "      <td>0</td>\n",
              "      <td>0.655</td>\n",
              "      <td>5.952</td>\n",
              "      <td>84.7</td>\n",
              "      <td>2.8715</td>\n",
              "      <td>24</td>\n",
              "      <td>666</td>\n",
              "      <td>20.2</td>\n",
              "      <td>22.01</td>\n",
              "      <td>17.15</td>\n",
              "    </tr>\n",
              "    <tr>\n",
              "      <th>2</th>\n",
              "      <td>4.42228</td>\n",
              "      <td>0</td>\n",
              "      <td>18.1</td>\n",
              "      <td>0</td>\n",
              "      <td>0.584</td>\n",
              "      <td>6.003</td>\n",
              "      <td>94.5</td>\n",
              "      <td>2.5403</td>\n",
              "      <td>24</td>\n",
              "      <td>666</td>\n",
              "      <td>20.2</td>\n",
              "      <td>331.29</td>\n",
              "      <td>21.32</td>\n",
              "    </tr>\n",
              "    <tr>\n",
              "      <th>3</th>\n",
              "      <td>15.57570</td>\n",
              "      <td>0</td>\n",
              "      <td>18.1</td>\n",
              "      <td>0</td>\n",
              "      <td>0.580</td>\n",
              "      <td>5.926</td>\n",
              "      <td>71.0</td>\n",
              "      <td>2.9084</td>\n",
              "      <td>24</td>\n",
              "      <td>666</td>\n",
              "      <td>20.2</td>\n",
              "      <td>368.74</td>\n",
              "      <td>18.13</td>\n",
              "    </tr>\n",
              "    <tr>\n",
              "      <th>4</th>\n",
              "      <td>13.07510</td>\n",
              "      <td>0</td>\n",
              "      <td>18.1</td>\n",
              "      <td>0</td>\n",
              "      <td>0.580</td>\n",
              "      <td>5.713</td>\n",
              "      <td>56.7</td>\n",
              "      <td>2.8237</td>\n",
              "      <td>24</td>\n",
              "      <td>666</td>\n",
              "      <td>20.2</td>\n",
              "      <td>396.90</td>\n",
              "      <td>14.76</td>\n",
              "    </tr>\n",
              "  </tbody>\n",
              "</table>\n",
              "</div>"
            ],
            "text/plain": [
              "       CRIM  ZN  INDUS  CHAS    NOX  ...  RAD  TAX  PTRATIO       B  LSTAT\n",
              "0   3.16360   0   18.1     0  0.655  ...   24  666     20.2  334.40  14.13\n",
              "1   3.77498   0   18.1     0  0.655  ...   24  666     20.2   22.01  17.15\n",
              "2   4.42228   0   18.1     0  0.584  ...   24  666     20.2  331.29  21.32\n",
              "3  15.57570   0   18.1     0  0.580  ...   24  666     20.2  368.74  18.13\n",
              "4  13.07510   0   18.1     0  0.580  ...   24  666     20.2  396.90  14.76\n",
              "\n",
              "[5 rows x 13 columns]"
            ]
          },
          "metadata": {
            "tags": []
          },
          "execution_count": 99
        }
      ]
    },
    {
      "cell_type": "code",
      "metadata": {
        "colab": {
          "base_uri": "https://localhost:8080/"
        },
        "id": "mhhqtS311Dbo",
        "outputId": "29bd7973-e4f1-407a-c6e0-1a50b16fc77b"
      },
      "source": [
        "# 학습 데이터 독립변수, 종속변수\n",
        "train_dataset_독립 = train_dataset[['CRIM', 'ZN', 'INDUS', 'CHAS', 'NOX', 'RM', 'AGE', 'DIS', 'RAD', 'TAX', 'PTRATIO', 'B', 'LSTAT']];\n",
        "train_dataset_종속 = train_dataset[['MEDV']]\n",
        "print(train_dataset_독립.shape, train_dataset_종속.shape)"
      ],
      "execution_count": 100,
      "outputs": [
        {
          "output_type": "stream",
          "text": [
            "(465, 13) (465, 1)\n"
          ],
          "name": "stdout"
        }
      ]
    },
    {
      "cell_type": "code",
      "metadata": {
        "colab": {
          "base_uri": "https://localhost:8080/"
        },
        "id": "3iI9IV1gQ8SE",
        "outputId": "41366be7-7eac-4aad-e51f-dba5ec7a2746"
      },
      "source": [
        "# 테스트 데이터 독립변수\n",
        "test_dataset_독립 = test_dataset[['CRIM', 'ZN', 'INDUS', 'CHAS', 'NOX', 'RM', 'AGE', 'DIS', 'RAD', 'TAX', 'PTRATIO', 'B', 'LSTAT']];\n",
        "print(test_dataset_독립.shape)"
      ],
      "execution_count": 101,
      "outputs": [
        {
          "output_type": "stream",
          "text": [
            "(41, 13)\n"
          ],
          "name": "stdout"
        }
      ]
    },
    {
      "cell_type": "code",
      "metadata": {
        "id": "pwyTjysl05yg"
      },
      "source": [
        "#2. 모델 구조 생성\n",
        "\n",
        "X = tf.keras.layers.Input(shape=[13])\n",
        "Y = tf.keras.layers.Dense(1)(X)\n",
        "model = tf.keras.models.Model(X, Y)\n",
        "model.compile(loss='mse')"
      ],
      "execution_count": 102,
      "outputs": []
    },
    {
      "cell_type": "code",
      "metadata": {
        "colab": {
          "base_uri": "https://localhost:8080/"
        },
        "id": "B0hvSIjY1SaI",
        "outputId": "94ddf328-b8e0-4d27-ab8f-b21d093fe4c8"
      },
      "source": [
        "\n",
        "#3. 학습 데이터를 이용하여 모델 학습\n",
        "model.fit(train_dataset_독립, train_dataset_종속, epochs=1000, verbose=0)\n",
        "model.fit(train_dataset_독립, train_dataset_종속, epochs=10)"
      ],
      "execution_count": 107,
      "outputs": [
        {
          "output_type": "stream",
          "text": [
            "Epoch 1/10\n",
            "15/15 [==============================] - 0s 1ms/step - loss: 27.1035\n",
            "Epoch 2/10\n",
            "15/15 [==============================] - 0s 2ms/step - loss: 27.8775\n",
            "Epoch 3/10\n",
            "15/15 [==============================] - 0s 2ms/step - loss: 27.4093\n",
            "Epoch 4/10\n",
            "15/15 [==============================] - 0s 1ms/step - loss: 26.8972\n",
            "Epoch 5/10\n",
            "15/15 [==============================] - 0s 1ms/step - loss: 27.3390\n",
            "Epoch 6/10\n",
            "15/15 [==============================] - 0s 1ms/step - loss: 27.6251\n",
            "Epoch 7/10\n",
            "15/15 [==============================] - 0s 2ms/step - loss: 26.7167\n",
            "Epoch 8/10\n",
            "15/15 [==============================] - 0s 1ms/step - loss: 26.7223\n",
            "Epoch 9/10\n",
            "15/15 [==============================] - 0s 1ms/step - loss: 26.9706\n",
            "Epoch 10/10\n",
            "15/15 [==============================] - 0s 1ms/step - loss: 27.3295\n"
          ],
          "name": "stdout"
        },
        {
          "output_type": "execute_result",
          "data": {
            "text/plain": [
              "<tensorflow.python.keras.callbacks.History at 0x7fdb88e73610>"
            ]
          },
          "metadata": {
            "tags": []
          },
          "execution_count": 107
        }
      ]
    },
    {
      "cell_type": "code",
      "metadata": {
        "colab": {
          "base_uri": "https://localhost:8080/"
        },
        "id": "GKPkM3O_1jRJ",
        "outputId": "b1efb7f0-7462-46bc-dc98-59d461e3a624"
      },
      "source": [
        "\n",
        "#4. 테스트 데이터로 모델을 이용\n",
        "model.predict(test_dataset_독립[0:10])\n"
      ],
      "execution_count": 111,
      "outputs": [
        {
          "output_type": "execute_result",
          "data": {
            "text/plain": [
              "array([[17.497875],\n",
              "       [12.624184],\n",
              "       [15.454082],\n",
              "       [15.908103],\n",
              "       [17.465204],\n",
              "       [19.45533 ],\n",
              "       [21.798183],\n",
              "       [21.661543],\n",
              "       [25.380238],\n",
              "       [15.216069]], dtype=float32)"
            ]
          },
          "metadata": {
            "tags": []
          },
          "execution_count": 111
        }
      ]
    },
    {
      "cell_type": "code",
      "metadata": {
        "colab": {
          "base_uri": "https://localhost:8080/"
        },
        "id": "v9iIzyhpSb0s",
        "outputId": "2fb4a713-264e-4ec7-d104-c7bf43e20373"
      },
      "source": [
        "\n",
        "#수식 확인\n",
        "model.get_weights()"
      ],
      "execution_count": 112,
      "outputs": [
        {
          "output_type": "execute_result",
          "data": {
            "text/plain": [
              "[array([[-0.07556634],\n",
              "        [ 0.07671084],\n",
              "        [-0.05341568],\n",
              "        [ 3.1760666 ],\n",
              "        [ 1.4026423 ],\n",
              "        [ 4.0736666 ],\n",
              "        [ 0.02252511],\n",
              "        [-0.9852084 ],\n",
              "        [ 0.1418603 ],\n",
              "        [-0.01083786],\n",
              "        [ 0.05305931],\n",
              "        [ 0.01535929],\n",
              "        [-0.60592866]], dtype=float32), array([2.4274085], dtype=float32)]"
            ]
          },
          "metadata": {
            "tags": []
          },
          "execution_count": 112
        }
      ]
    }
  ]
}